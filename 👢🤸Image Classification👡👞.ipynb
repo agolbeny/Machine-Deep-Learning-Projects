{
  "nbformat": 4,
  "nbformat_minor": 0,
  "metadata": {
    "colab": {
      "provenance": [],
      "collapsed_sections": [],
      "authorship_tag": "ABX9TyPLr1dpE6elKLULJnZHODY7",
      "include_colab_link": true
    },
    "kernelspec": {
      "name": "python3",
      "display_name": "Python 3"
    },
    "language_info": {
      "name": "python"
    }
  },
  "cells": [
    {
      "cell_type": "markdown",
      "metadata": {
        "id": "view-in-github",
        "colab_type": "text"
      },
      "source": [
        "<a href=\"https://colab.research.google.com/github/agolbeny/Alert-app-1/blob/main/%F0%9F%91%A2%F0%9F%A4%B8Image%20Classification%F0%9F%91%A1%F0%9F%91%9E.ipynb\" target=\"_parent\"><img src=\"https://colab.research.google.com/assets/colab-badge.svg\" alt=\"Open In Colab\"/></a>"
      ]
    },
    {
      "cell_type": "code",
      "execution_count": 1,
      "metadata": {
        "id": "vQbtL6_rMcY_"
      },
      "outputs": [],
      "source": [
        "import numpy as np\n",
        "import pandas as pd\n",
        "import cv2\n",
        "import matplotlib.pyplot as plt\n",
        "import seaborn as sns\n",
        "from sklearn.metrics import classification_report\n",
        "import tensorflow as tf\n",
        "import os"
      ]
    },
    {
      "cell_type": "code",
      "source": [
        "Data   ='../input/shoe-vs-sandal-vs-boot-dataset-15k-images/Shoe vs Sandal vs Boot Dataset/'\n",
        "boot   ='../input/shoe-vs-sandal-vs-boot-dataset-15k-images/Shoe vs Sandal vs Boot Dataset/Boot'\n",
        "Sandal ='../input/shoe-vs-sandal-vs-boot-dataset-15k-images/Shoe vs Sandal vs Boot Dataset/Sandal'\n",
        "Shoe   ='../input/shoe-vs-sandal-vs-boot-dataset-15k-images/Shoe vs Sandal vs Boot Dataset/Shoe'"
      ],
      "metadata": {
        "id": "dSSFIIVyf-W7"
      },
      "execution_count": 3,
      "outputs": []
    },
    {
      "cell_type": "code",
      "source": [
        "for image_class in os.listdir(Data):\n",
        "    print(image_class)"
      ],
      "metadata": {
        "id": "7XyxxuCGf-UG"
      },
      "execution_count": null,
      "outputs": []
    },
    {
      "cell_type": "code",
      "source": [
        "for image_class in os.listdir(Data):\n",
        "    for image in os.listdir(os.path.join(Data,image_class)):\n",
        "        image_path = os.path.join(Data,image_class,image)\n",
        "        img = cv2.imread(image_path)"
      ],
      "metadata": {
        "id": "BPtMgivLhEy-"
      },
      "execution_count": null,
      "outputs": []
    },
    {
      "cell_type": "code",
      "source": [
        "img_data = tf.keras.utils.image_dataset_from_directory(Data)"
      ],
      "metadata": {
        "id": "lHzSN_6ohGDk"
      },
      "execution_count": null,
      "outputs": []
    },
    {
      "cell_type": "code",
      "source": [
        "img_iterator = img_data.as_numpy_iterator()"
      ],
      "metadata": {
        "id": "FfuTPhP0hI1V"
      },
      "execution_count": null,
      "outputs": []
    },
    {
      "cell_type": "code",
      "source": [
        "img_next = img_iterator.next()\n"
      ],
      "metadata": {
        "id": "7OiZa_cfhGB8"
      },
      "execution_count": null,
      "outputs": []
    },
    {
      "cell_type": "code",
      "source": [
        "import random\n",
        "import matplotlib.image as mpimg\n",
        "def load_img(file_path):    \n",
        "    plt.figure(figsize=(20,20))\n",
        "    for i in range(6):\n",
        "        file = random.choice(os.listdir(file_path))\n",
        "        image_path=os.path.join(file_path,file)\n",
        "        img=mpimg.imread(image_path)\n",
        "        ax= plt.subplot(1,6,i+1)\n",
        "        ax.title.set_text(file)\n",
        "        plt.imshow(img) "
      ],
      "metadata": {
        "id": "kV497TnshTd9"
      },
      "execution_count": null,
      "outputs": []
    },
    {
      "cell_type": "code",
      "source": [
        "load_img(boot)"
      ],
      "metadata": {
        "id": "ffD13pdOhUX8"
      },
      "execution_count": null,
      "outputs": []
    },
    {
      "cell_type": "code",
      "source": [
        "fig,ax= plt.subplots(ncols=4,figsize=(20,20))\n",
        "for idx,img in enumerate(img_next[0][:4]):\n",
        "    ax[idx].imshow(img.astype(int))\n",
        "    ax[idx].title.set_text(img_next[1][idx])\n",
        "    "
      ],
      "metadata": {
        "id": "Uo57cVtBhWs-"
      },
      "execution_count": null,
      "outputs": []
    },
    {
      "cell_type": "code",
      "source": [
        "from tensorflow.keras.preprocessing.image import ImageDataGenerator \n",
        "\n",
        "datagen = ImageDataGenerator(rescale=1./255,rotation_range=45,horizontal_flip=True,vertical_flip=True,fill_mode='reflect',validation_split=0.3)\n",
        "\n",
        "train = datagen.flow_from_directory(Data,batch_size=32,target_size=(256,256),class_mode=\"categorical\",subset=\"training\")\n",
        "\n",
        "valid = datagen.flow_from_directory(Data,batch_size=32,target_size=(256,256),class_mode=\"categorical\",subset=\"validation\")"
      ],
      "metadata": {
        "id": "gJN7vLw4haQM"
      },
      "execution_count": null,
      "outputs": []
    },
    {
      "cell_type": "code",
      "source": [
        "from tensorflow.keras.models import Sequential\n",
        "from tensorflow.keras.layers import Conv2D, MaxPooling2D, Dense, Flatten, Dropout"
      ],
      "metadata": {
        "id": "JxVAFTZChbYk"
      },
      "execution_count": null,
      "outputs": []
    },
    {
      "cell_type": "code",
      "source": [
        "model = Sequential()\n",
        "model.add(Conv2D(16, (3,3), 1, activation='relu', input_shape=(256,256,3)))\n",
        "model.add(MaxPooling2D())\n",
        "model.add(Conv2D(32, (3,3), 1, activation='relu'))\n",
        "model.add(MaxPooling2D())\n",
        "model.add(Conv2D(16, (3,3), 1, activation='relu'))\n",
        "model.add(MaxPooling2D())\n",
        "model.add(Flatten())\n",
        "model.add(Dense(256, activation='relu'))\n",
        "model.add(Dense(3, activation='softmax'))"
      ],
      "metadata": {
        "id": "702bMtrLheAN"
      },
      "execution_count": null,
      "outputs": []
    },
    {
      "cell_type": "code",
      "source": [
        "model.compile('adam', loss=tf.losses.categorical_crossentropy, metrics=['accuracy'])\n"
      ],
      "metadata": {
        "id": "L1lJ6nnqhgY8"
      },
      "execution_count": null,
      "outputs": []
    },
    {
      "cell_type": "code",
      "source": [
        "model.summary()"
      ],
      "metadata": {
        "id": "AlVtjZbVhijV"
      },
      "execution_count": null,
      "outputs": []
    },
    {
      "cell_type": "code",
      "source": [
        "history = model.fit(train, epochs=10, validation_data=valid)\n"
      ],
      "metadata": {
        "id": "qGnDXiTyhllt"
      },
      "execution_count": null,
      "outputs": []
    },
    {
      "cell_type": "code",
      "source": [
        "img = cv2.imread('../input/shoe-vs-sandal-vs-boot-dataset-15k-images/Shoe vs Sandal vs Boot Dataset/Boot/boot (1).jpg')\n",
        "plt.imshow(img)\n",
        "plt.show()"
      ],
      "metadata": {
        "id": "Tmxgq3tNhocN"
      },
      "execution_count": null,
      "outputs": []
    },
    {
      "cell_type": "code",
      "source": [
        "resize = tf.image.resize(img, (256,256))\n",
        "plt.imshow(resize.numpy().astype(int))\n",
        "plt.show()"
      ],
      "metadata": {
        "id": "tgpDrSYAhq09"
      },
      "execution_count": null,
      "outputs": []
    },
    {
      "cell_type": "code",
      "source": [
        "y_test = np.expand_dims(resize/255, 0)"
      ],
      "metadata": {
        "id": "kltiSDJihrs1"
      },
      "execution_count": null,
      "outputs": []
    },
    {
      "cell_type": "code",
      "source": [
        "y_test = valid.classes\n",
        "y_test"
      ],
      "metadata": {
        "id": "nJJBXwHFhuJt"
      },
      "execution_count": null,
      "outputs": []
    },
    {
      "cell_type": "code",
      "source": [
        "fig = plt.figure()\n",
        "plt.plot(history.history['loss'], color='teal', label='loss')\n",
        "plt.plot(history.history['val_loss'], color='orange', label='val_loss')\n",
        "fig.suptitle('Loss', fontsize=20)\n",
        "plt.legend(loc=\"upper left\")\n",
        "plt.show()"
      ],
      "metadata": {
        "id": "NQdsFjyPhwGE"
      },
      "execution_count": null,
      "outputs": []
    },
    {
      "cell_type": "code",
      "source": [
        "fig = plt.figure()\n",
        "plt.plot(history.history['accuracy'], color='teal', label='accuracy')\n",
        "plt.plot(history.history['val_accuracy'], color='orange', label='val_accuracy')\n",
        "fig.suptitle('Accuracy', fontsize=20)\n",
        "plt.legend(loc=\"upper left\")\n",
        "plt.show()"
      ],
      "metadata": {
        "id": "N4mqbIh1hyIt"
      },
      "execution_count": null,
      "outputs": []
    },
    {
      "cell_type": "code",
      "source": [
        "from tensorflow.keras.models import load_model\n"
      ],
      "metadata": {
        "id": "P9Jt-AYrh0D-"
      },
      "execution_count": null,
      "outputs": []
    },
    {
      "cell_type": "code",
      "source": [
        "model.save(os.path.join('models','imageclassifier.h5'))\n"
      ],
      "metadata": {
        "id": "r3_cJQV_h2xl"
      },
      "execution_count": null,
      "outputs": []
    },
    {
      "cell_type": "markdown",
      "source": [
        "# New Section"
      ],
      "metadata": {
        "id": "AQPn-7uIS8o3"
      }
    },
    {
      "cell_type": "markdown",
      "source": [
        "# New Section"
      ],
      "metadata": {
        "id": "Oci1JmM-S954"
      }
    }
  ]
}