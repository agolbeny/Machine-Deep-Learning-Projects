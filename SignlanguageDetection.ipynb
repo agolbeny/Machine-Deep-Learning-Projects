{
  "nbformat": 4,
  "nbformat_minor": 0,
  "metadata": {
    "colab": {
      "private_outputs": true,
      "provenance": [],
      "mount_file_id": "1ynQ1raB7H8U1HsgPg28lrUZ4rslHM-K9",
      "authorship_tag": "ABX9TyMGcU7pXYued3j29GA9+9Mq",
      "include_colab_link": true
    },
    "kernelspec": {
      "name": "python3",
      "display_name": "Python 3"
    },
    "language_info": {
      "name": "python"
    },
    "accelerator": "GPU",
    "gpuClass": "standard"
  },
  "cells": [
    {
      "cell_type": "markdown",
      "metadata": {
        "id": "view-in-github",
        "colab_type": "text"
      },
      "source": [
        "<a href=\"https://colab.research.google.com/github/agolbeny/Machine-Deep-Learning-Projects/blob/main/SignlanguageDetection.ipynb\" target=\"_parent\"><img src=\"https://colab.research.google.com/assets/colab-badge.svg\" alt=\"Open In Colab\"/></a>"
      ]
    },
    {
      "cell_type": "code",
      "execution_count": null,
      "metadata": {
        "id": "__vLKtN1Go-L"
      },
      "outputs": [],
      "source": [
        "!pip install tensorflow\n"
      ]
    },
    {
      "cell_type": "code",
      "source": [
        "from google.colab import drive\n",
        "drive.mount('/content/drive')"
      ],
      "metadata": {
        "id": "72vSsZeYGr6P"
      },
      "execution_count": null,
      "outputs": []
    },
    {
      "cell_type": "code",
      "source": [
        "# extracting the compressed dataset\n",
        "from zipfile import ZipFile\n",
        "\n",
        "dataset = '/content/drive/MyDrive/Sign Language/RealTimeObjectDetection.zip'\n",
        "\n",
        "with ZipFile(dataset, 'r') as zip:\n",
        "  zip.extractall()\n",
        "  print('The dataset is Extracted')"
      ],
      "metadata": {
        "id": "kwJ0-6TjHVUl"
      },
      "execution_count": null,
      "outputs": []
    },
    {
      "cell_type": "code",
      "source": [
        "import os\n",
        "\n",
        "\n",
        "os.environ['PYTHONPATH'] = '/env/python;/kaggle/working/models/research/;/kaggle/working/models/research/slim/'"
      ],
      "metadata": {
        "id": "bZbDrF9iHZqJ"
      },
      "execution_count": null,
      "outputs": []
    },
    {
      "cell_type": "code",
      "source": [
        "import os\n",
        "WORKSPACE_PATH = '/content/RealTimeObjectDetection/Tensorflow/workspace/'\n",
        "SCRIPTS_PATH = '/content/RealTimeObjectDetection/Tensorflow/scripts'\n",
        "APIMODEL_PATH = '/content/RealTimeObjectDetection/Tensorflow/workspace/models'\n",
        "ANNOTATION_PATH = WORKSPACE_PATH+'/annotations'\n",
        "IMAGE_PATH = WORKSPACE_PATH+'/images'\n",
        "MODEL_PATH = WORKSPACE_PATH+'/models'\n",
        "model_path = os.path.join(WORKSPACE_PATH, '/label_map.pbtxt')\n",
        "PRETRAINED_MODEL_PATH = WORKSPACE_PATH+'/pre-trained-models'\n",
        "CONFIG_PATH = MODEL_PATH+'/ssd_mobilenet_v2_fpnlite_320x320_coco17_tpu-8/pipeline.config'\n",
        "CHECKPOINT_PATH = MODEL_PATH+'/ssd_mobilenet_v2_fpnlite_320x320_coco17_tpu-8.tar.gz'"
      ],
      "metadata": {
        "id": "g3NMEgAAHeJM"
      },
      "execution_count": null,
      "outputs": []
    },
    {
      "cell_type": "code",
      "source": [
        "labels = [{'name':'Hello', 'id':1},\n",
        "          {'name':\"I Love You\", 'id':2},\n",
        "          {'name':'No', 'id':3},\n",
        "          {'name':'Yes', 'id':4},\n",
        "          {'name':'Thanks', 'id':5}\n",
        "         \n",
        "         \n",
        "         \n",
        "         ]\n",
        "\n",
        "with open(ANNOTATION_PATH + '/label_map.pbtxt', 'w') as f:\n",
        "    for label in labels:\n",
        "        f.write('item { \\n')\n",
        "        f.write('\\tname:\\'{}\\'\\n'.format(label['name']))\n",
        "        f.write('\\tid:{}\\n'.format(label['id']))\n",
        "        f.write('}\\n')"
      ],
      "metadata": {
        "id": "r1f6IQDUHiFN"
      },
      "execution_count": null,
      "outputs": []
    },
    {
      "cell_type": "code",
      "source": [
        "pip install tensorflow-object-detection-api\n"
      ],
      "metadata": {
        "id": "O6g5wgTFHmK8"
      },
      "execution_count": null,
      "outputs": []
    },
    {
      "cell_type": "code",
      "source": [
        "!python3 -c \"import tensorflow as tf; print(tf.config.list_physical_devices('GPU'))\""
      ],
      "metadata": {
        "id": "6eBUV-_sJLzv"
      },
      "execution_count": null,
      "outputs": []
    },
    {
      "cell_type": "code",
      "source": [
        "import tensorflow as tf"
      ],
      "metadata": {
        "id": "WnIQPZjeJPcU"
      },
      "execution_count": null,
      "outputs": []
    },
    {
      "cell_type": "code",
      "source": [
        "label_map_util_path = \"/usr/local/lib/python3.8/dist-packages/object_detection/utils/label_map_util.py\"\n",
        "new_file = open(label_map_util_path, 'r').read().replace('tf.gfile.GFile', 'tf.io.gfile.GFile')\n",
        "\n",
        "file_res = open(label_map_util_path, 'w').write(new_file)\n",
        "print(file_res)"
      ],
      "metadata": {
        "id": "EAeK_GunH6n_"
      },
      "execution_count": null,
      "outputs": []
    },
    {
      "cell_type": "code",
      "source": [
        "!python {SCRIPTS_PATH + '/generate_tfrecord.py'} -x {IMAGE_PATH + '/train'} -l {ANNOTATION_PATH + '/label_map.pbtxt'} -o {ANNOTATION_PATH + '/train.record'}\n",
        "!python {SCRIPTS_PATH + '/generate_tfrecord.py'} -x{IMAGE_PATH + '/test'} -l {ANNOTATION_PATH + '/label_map.pbtxt'} -o {ANNOTATION_PATH + '/test.record'}"
      ],
      "metadata": {
        "id": "jU-NTai4HsNQ"
      },
      "execution_count": null,
      "outputs": []
    },
    {
      "cell_type": "code",
      "source": [
        "!cd Tensorflow && git clone https://github.com/tensorflow/models"
      ],
      "metadata": {
        "id": "r5bQDFMdvBes"
      },
      "execution_count": null,
      "outputs": []
    },
    {
      "cell_type": "code",
      "source": [],
      "metadata": {
        "id": "MjrOOvKmvCUj"
      },
      "execution_count": null,
      "outputs": []
    }
  ]
}