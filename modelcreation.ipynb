{
  "nbformat": 4,
  "nbformat_minor": 0,
  "metadata": {
    "colab": {
      "provenance": [],
      "authorship_tag": "ABX9TyPgpBlTW3CJKmpxa0QROgWm",
      "include_colab_link": true
    },
    "kernelspec": {
      "name": "python3",
      "display_name": "Python 3"
    },
    "language_info": {
      "name": "python"
    }
  },
  "cells": [
    {
      "cell_type": "markdown",
      "metadata": {
        "id": "view-in-github",
        "colab_type": "text"
      },
      "source": [
        "<a href=\"https://colab.research.google.com/github/agolbeny/Alert-app-1/blob/main/modelcreation.ipynb\" target=\"_parent\"><img src=\"https://colab.research.google.com/assets/colab-badge.svg\" alt=\"Open In Colab\"/></a>"
      ]
    },
    {
      "cell_type": "code",
      "execution_count": 6,
      "metadata": {
        "colab": {
          "base_uri": "https://localhost:8080/"
        },
        "id": "SmetIL5H4vsl",
        "outputId": "b067bb5c-7d11-4b7c-e80c-c6c2f68c29b2"
      },
      "outputs": [
        {
          "output_type": "stream",
          "name": "stdout",
          "text": [
            "Downloading data from https://www.cs.toronto.edu/~kriz/cifar-10-python.tar.gz\n",
            "170498071/170498071 [==============================] - 4s 0us/step\n"
          ]
        },
        {
          "output_type": "execute_result",
          "data": {
            "text/plain": [
              "(10000, 32, 32, 3)"
            ]
          },
          "metadata": {},
          "execution_count": 6
        }
      ],
      "source": [
        "import tensorflow as tf\n",
        "from tensorflow.keras import datasets, layers, models\n",
        "import matplotlib.pyplot as plt\n",
        "import numpy as np\n",
        "#Load the dataset\n",
        "(x_train, y_train), (x_test,y_test) = datasets.cifar10.load_data()\n",
        "x_train.shape\n",
        "\n",
        "x_test.shape"
      ]
    },
    {
      "cell_type": "code",
      "source": [
        "print(x_train.shape)"
      ],
      "metadata": {
        "colab": {
          "base_uri": "https://localhost:8080/"
        },
        "id": "H_hcvOpf6Zf3",
        "outputId": "30fb25d8-ccac-41dc-dfc8-67586e4b25a3"
      },
      "execution_count": 7,
      "outputs": [
        {
          "output_type": "stream",
          "name": "stdout",
          "text": [
            "(50000, 32, 32, 3)\n"
          ]
        }
      ]
    },
    {
      "cell_type": "code",
      "source": [
        "print(y_train.shape)"
      ],
      "metadata": {
        "colab": {
          "base_uri": "https://localhost:8080/"
        },
        "id": "MFKAY2GW6v7Z",
        "outputId": "8842dff6-8068-494a-d537-72a9e18008be"
      },
      "execution_count": 8,
      "outputs": [
        {
          "output_type": "stream",
          "name": "stdout",
          "text": [
            "(50000, 1)\n"
          ]
        }
      ]
    },
    {
      "cell_type": "code",
      "source": [
        "print(x_test.shape)"
      ],
      "metadata": {
        "colab": {
          "base_uri": "https://localhost:8080/"
        },
        "id": "QiWHCusv7Dl2",
        "outputId": "656cc220-6151-417c-9a5a-e92b655c2a14"
      },
      "execution_count": 9,
      "outputs": [
        {
          "output_type": "stream",
          "name": "stdout",
          "text": [
            "(10000, 32, 32, 3)\n"
          ]
        }
      ]
    },
    {
      "cell_type": "code",
      "source": [
        "print(y_test.shape)"
      ],
      "metadata": {
        "colab": {
          "base_uri": "https://localhost:8080/"
        },
        "id": "19j0RMQy7Gw2",
        "outputId": "c6e845e8-5a9a-4dd2-8ef1-f23b3511ea91"
      },
      "execution_count": 10,
      "outputs": [
        {
          "output_type": "stream",
          "name": "stdout",
          "text": [
            "(10000, 1)\n"
          ]
        }
      ]
    },
    {
      "cell_type": "code",
      "source": [
        "plt.imshow(x_train[4])"
      ],
      "metadata": {
        "colab": {
          "base_uri": "https://localhost:8080/",
          "height": 283
        },
        "id": "Z1UrYCpd7K92",
        "outputId": "e623ac16-19c8-4b4c-a00b-502bd658a234"
      },
      "execution_count": 11,
      "outputs": [
        {
          "output_type": "execute_result",
          "data": {
            "text/plain": [
              "<matplotlib.image.AxesImage at 0x7f93d5430b90>"
            ]
          },
          "metadata": {},
          "execution_count": 11
        },
        {
          "output_type": "display_data",
          "data": {
            "text/plain": [
              "<Figure size 432x288 with 1 Axes>"
            ],
            "image/png": "[encoded data removed]"
          },
          "metadata": {
            "needs_background": "light"
          }
        }
      ]
    },
    {
      "cell_type": "code",
      "source": [
        "from keras.utils import to_categorical\n",
        "train_labels = to_categorical(y_train)\n",
        "test_labels = to_categorical(y_test)\n",
        "print(train_labels.shape)"
      ],
      "metadata": {
        "colab": {
          "base_uri": "https://localhost:8080/"
        },
        "id": "VhxSxnQh7ZAv",
        "outputId": "2adce5b7-982e-409c-cb7b-502202134450"
      },
      "execution_count": 12,
      "outputs": [
        {
          "output_type": "stream",
          "name": "stdout",
          "text": [
            "(50000, 10)\n"
          ]
        }
      ]
    },
    {
      "cell_type": "code",
      "source": [
        "print(test_labels.shape)"
      ],
      "metadata": {
        "colab": {
          "base_uri": "https://localhost:8080/"
        },
        "id": "rUHrHrMs76N_",
        "outputId": "b71b6f8b-8b8f-47ee-bede-19cd5a96e673"
      },
      "execution_count": 13,
      "outputs": [
        {
          "output_type": "stream",
          "name": "stdout",
          "text": [
            "(10000, 10)\n"
          ]
        }
      ]
    },
    {
      "cell_type": "code",
      "source": [
        "# Develop our own Convnet\n",
        "from tensorflow.keras import models\n",
        "from tensorflow.keras import layers\n",
        "from tensorflow.keras import optimizers\n",
        "\n",
        "model = models.Sequential()\n",
        "model.add( layers.Conv2D( 16, ( 3, 3 ), activation = 'sigmoid', input_shape = x_train[0, :, :, :].shape))\n",
        "model.add( layers.Conv2D( 4, ( 3, 3 ), activation = 'sigmoid' ) )\n",
        "model.add( layers.Flatten() )\n",
        "model.add( layers.Dense( 10, activation = 'softmax' ) )\n"
      ],
      "metadata": {
        "id": "im3OKYoM7_ZG"
      },
      "execution_count": 14,
      "outputs": []
    },
    {
      "cell_type": "code",
      "source": [
        "model.summary()"
      ],
      "metadata": {
        "colab": {
          "base_uri": "https://localhost:8080/"
        },
        "id": "FxpC4EC19QmP",
        "outputId": "b515fac4-717d-438b-fef4-7a18ffcd691c"
      },
      "execution_count": 15,
      "outputs": [
        {
          "output_type": "stream",
          "name": "stdout",
          "text": [
            "Model: \"sequential_1\"\n",
            "_________________________________________________________________\n",
            " Layer (type)                Output Shape              Param #   \n",
            "=================================================================\n",
            " conv2d (Conv2D)             (None, 30, 30, 16)        448       \n",
            "                                                                 \n",
            " conv2d_1 (Conv2D)           (None, 28, 28, 4)         580       \n",
            "                                                                 \n",
            " flatten (Flatten)           (None, 3136)              0         \n",
            "                                                                 \n",
            " dense (Dense)               (None, 10)                31370     \n",
            "                                                                 \n",
            "=================================================================\n",
            "Total params: 32,398\n",
            "Trainable params: 32,398\n",
            "Non-trainable params: 0\n",
            "_________________________________________________________________\n"
          ]
        }
      ]
    },
    {
      "cell_type": "code",
      "source": [
        "model.compile( optimizer = 'adam', loss = 'categorical_crossentropy', metrics = ['accuracy'])\n",
        "history = model.fit(x_train, train_labels, epochs = 5, batch_size = 128, validation_data = (x_test, test_labels))\n"
      ],
      "metadata": {
        "id": "OPWhRijJ-EDn",
        "colab": {
          "base_uri": "https://localhost:8080/"
        },
        "outputId": "5b727850-a62e-4fcd-82db-34c05ad89468"
      },
      "execution_count": 16,
      "outputs": [
        {
          "output_type": "stream",
          "name": "stdout",
          "text": [
            "Epoch 1/5\n",
            "391/391 [==============================] - 50s 126ms/step - loss: 1.8661 - accuracy: 0.3173 - val_loss: 1.6041 - val_accuracy: 0.4227\n",
            "Epoch 2/5\n",
            "391/391 [==============================] - 49s 126ms/step - loss: 1.5485 - accuracy: 0.4498 - val_loss: 1.5025 - val_accuracy: 0.4653\n",
            "Epoch 3/5\n",
            "391/391 [==============================] - 49s 124ms/step - loss: 1.4701 - accuracy: 0.4775 - val_loss: 1.4474 - val_accuracy: 0.4858\n",
            "Epoch 4/5\n",
            "391/391 [==============================] - 49s 125ms/step - loss: 1.4045 - accuracy: 0.5013 - val_loss: 1.3959 - val_accuracy: 0.4982\n",
            "Epoch 5/5\n",
            "391/391 [==============================] - 49s 126ms/step - loss: 1.3636 - accuracy: 0.5178 - val_loss: 1.3733 - val_accuracy: 0.5043\n"
          ]
        }
      ]
    },
    {
      "cell_type": "code",
      "source": [
        "plt.plot(history.history['accuracy'])\n",
        "plt.plot(history.history['val_accuracy'])\n",
        "plt.title('model accuracy')\n",
        "plt.ylabel('accuracy')\n",
        "plt.xlabel('epoch')\n",
        "plt.legend(['train', 'validation'], loc='upper left')\n",
        "plt.show()"
      ],
      "metadata": {
        "colab": {
          "base_uri": "https://localhost:8080/",
          "height": 295
        },
        "id": "442ptJz5FdhL",
        "outputId": "2f836912-b711-4ba3-f4c3-14f7ad30b571"
      },
      "execution_count": 18,
      "outputs": [
        {
          "output_type": "display_data",
          "data": {
            "text/plain": [
              "<Figure size 432x288 with 1 Axes>"
            ],
            "image/png": "[encoded data removed]"
          },
          "metadata": {
            "needs_background": "light"
          }
        }
      ]
    },
    {
      "cell_type": "code",
      "source": [
        "from tensorflow.keras.applications import VGG16\n",
        "conv_base = VGG16(weights='imagenet', include_top=False, input_shape=(32, 32, 3))"
      ],
      "metadata": {
        "colab": {
          "base_uri": "https://localhost:8080/"
        },
        "id": "vfbwR7veH_zY",
        "outputId": "5dcc3ccf-f7b1-4b33-c589-1bce7ad3becf"
      },
      "execution_count": 19,
      "outputs": [
        {
          "output_type": "stream",
          "name": "stdout",
          "text": [
            "Downloading data from https://storage.googleapis.com/tensorflow/keras-applications/vgg16/vgg16_weights_tf_dim_ordering_tf_kernels_notop.h5\n",
            "58889256/58889256 [==============================] - 0s 0us/step\n"
          ]
        }
      ]
    },
    {
      "cell_type": "code",
      "source": [
        "conv_base.summary()"
      ],
      "metadata": {
        "colab": {
          "base_uri": "https://localhost:8080/"
        },
        "id": "rc6MuirkJaDq",
        "outputId": "e3ea16b2-cf0c-4a6c-c1e3-7e69050a3e1b"
      },
      "execution_count": 20,
      "outputs": [
        {
          "output_type": "stream",
          "name": "stdout",
          "text": [
            "Model: \"vgg16\"\n",
            "_________________________________________________________________\n",
            " Layer (type)                Output Shape              Param #   \n",
            "=================================================================\n",
            " input_1 (InputLayer)        [(None, 32, 32, 3)]       0         \n",
            "                                                                 \n",
            " block1_conv1 (Conv2D)       (None, 32, 32, 64)        1792      \n",
            "                                                                 \n",
            " block1_conv2 (Conv2D)       (None, 32, 32, 64)        36928     \n",
            "                                                                 \n",
            " block1_pool (MaxPooling2D)  (None, 16, 16, 64)        0         \n",
            "                                                                 \n",
            " block2_conv1 (Conv2D)       (None, 16, 16, 128)       73856     \n",
            "                                                                 \n",
            " block2_conv2 (Conv2D)       (None, 16, 16, 128)       147584    \n",
            "                                                                 \n",
            " block2_pool (MaxPooling2D)  (None, 8, 8, 128)         0         \n",
            "                                                                 \n",
            " block3_conv1 (Conv2D)       (None, 8, 8, 256)         295168    \n",
            "                                                                 \n",
            " block3_conv2 (Conv2D)       (None, 8, 8, 256)         590080    \n",
            "                                                                 \n",
            " block3_conv3 (Conv2D)       (None, 8, 8, 256)         590080    \n",
            "                                                                 \n",
            " block3_pool (MaxPooling2D)  (None, 4, 4, 256)         0         \n",
            "                                                                 \n",
            " block4_conv1 (Conv2D)       (None, 4, 4, 512)         1180160   \n",
            "                                                                 \n",
            " block4_conv2 (Conv2D)       (None, 4, 4, 512)         2359808   \n",
            "                                                                 \n",
            " block4_conv3 (Conv2D)       (None, 4, 4, 512)         2359808   \n",
            "                                                                 \n",
            " block4_pool (MaxPooling2D)  (None, 2, 2, 512)         0         \n",
            "                                                                 \n",
            " block5_conv1 (Conv2D)       (None, 2, 2, 512)         2359808   \n",
            "                                                                 \n",
            " block5_conv2 (Conv2D)       (None, 2, 2, 512)         2359808   \n",
            "                                                                 \n",
            " block5_conv3 (Conv2D)       (None, 2, 2, 512)         2359808   \n",
            "                                                                 \n",
            " block5_pool (MaxPooling2D)  (None, 1, 1, 512)         0         \n",
            "                                                                 \n",
            "=================================================================\n",
            "Total params: 14,714,688\n",
            "Trainable params: 14,714,688\n",
            "Non-trainable params: 0\n",
            "_________________________________________________________________\n"
          ]
        }
      ]
    },
    {
      "cell_type": "code",
      "source": [
        "x_test_vgg_output = conv_base.predict(x_test, verbose = 1)\n",
        "x_train_vgg_output = conv_base.predict(x_train, verbose = 1)"
      ],
      "metadata": {
        "colab": {
          "base_uri": "https://localhost:8080/"
        },
        "id": "VdGuvIp9JzJ4",
        "outputId": "d946857d-af21-40ed-e388-6ccf92c839f4"
      },
      "execution_count": 21,
      "outputs": [
        {
          "output_type": "stream",
          "name": "stdout",
          "text": [
            "313/313 [==============================] - 102s 325ms/step\n",
            "1563/1563 [==============================] - 509s 325ms/step\n"
          ]
        }
      ]
    },
    {
      "cell_type": "code",
      "source": [
        "print(x_test_vgg_output.shape)\n",
        "print(x_train_vgg_output.shape)"
      ],
      "metadata": {
        "colab": {
          "base_uri": "https://localhost:8080/"
        },
        "id": "Lz16gYeeLIB_",
        "outputId": "84148bac-04de-4393-d778-659ec437e793"
      },
      "execution_count": 22,
      "outputs": [
        {
          "output_type": "stream",
          "name": "stdout",
          "text": [
            "(10000, 1, 1, 512)\n",
            "(50000, 1, 1, 512)\n"
          ]
        }
      ]
    },
    {
      "cell_type": "code",
      "source": [
        "import numpy as np\n",
        "x_test_new = np.reshape(x_test_vgg_output, (10000, 1 * 1 * 512))\n",
        "x_train_new = np.reshape(x_train_vgg_output, (50000, 1 * 1 * 512))\n"
      ],
      "metadata": {
        "id": "VaO8A11AN7cx"
      },
      "execution_count": 23,
      "outputs": []
    },
    {
      "cell_type": "code",
      "source": [
        "print(x_test_new.shape)\n",
        "print(x_train_new.shape)"
      ],
      "metadata": {
        "colab": {
          "base_uri": "https://localhost:8080/"
        },
        "id": "zKnOvqJvPJvh",
        "outputId": "0254d5da-12e0-46e0-b0e3-956b9063c94c"
      },
      "execution_count": 24,
      "outputs": [
        {
          "output_type": "stream",
          "name": "stdout",
          "text": [
            "(10000, 512)\n",
            "(50000, 512)\n"
          ]
        }
      ]
    },
    {
      "cell_type": "code",
      "source": [
        "from tensorflow.keras import models\n",
        "from tensorflow.keras import layers\n",
        "from tensorflow.keras import optimizers\n",
        "\n",
        "new_model = models.Sequential()\n",
        "new_model.add(layers.Dense(256, activation='relu', input_dim = 1 * 1 * 512))\n",
        "new_model.add(layers.Dropout(0.5))\n",
        "new_model.add(layers.Dense(10, activation = 'softmax'))\n",
        "\n",
        "new_model.compile(optimizer = 'rmsprop', loss='categorical_crossentropy', metrics=['accuracy'])\n",
        "history = new_model.fit(x_train_new, train_labels, epochs=32, batch_size=128, validation_data=(x_test_new, test_labels))\n"
      ],
      "metadata": {
        "colab": {
          "base_uri": "https://localhost:8080/"
        },
        "id": "iyUlMsHCPaj5",
        "outputId": "eb628060-e424-4917-bc27-73958237a447"
      },
      "execution_count": 28,
      "outputs": [
        {
          "output_type": "stream",
          "name": "stdout",
          "text": [
            "Epoch 1/32\n",
            "391/391 [==============================] - 3s 7ms/step - loss: 3.4080 - accuracy: 0.3740 - val_loss: 1.4402 - val_accuracy: 0.5124\n",
            "Epoch 2/32\n",
            "391/391 [==============================] - 3s 7ms/step - loss: 1.5839 - accuracy: 0.4807 - val_loss: 1.3550 - val_accuracy: 0.5591\n",
            "Epoch 3/32\n",
            "391/391 [==============================] - 3s 7ms/step - loss: 1.4676 - accuracy: 0.5209 - val_loss: 1.3136 - val_accuracy: 0.5786\n",
            "Epoch 4/32\n",
            "391/391 [==============================] - 3s 7ms/step - loss: 1.3999 - accuracy: 0.5423 - val_loss: 1.3136 - val_accuracy: 0.5861\n",
            "Epoch 5/32\n",
            "391/391 [==============================] - 3s 7ms/step - loss: 1.3586 - accuracy: 0.5581 - val_loss: 1.2990 - val_accuracy: 0.5946\n",
            "Epoch 6/32\n",
            "391/391 [==============================] - 2s 6ms/step - loss: 1.3304 - accuracy: 0.5675 - val_loss: 1.3065 - val_accuracy: 0.5928\n",
            "Epoch 7/32\n",
            "391/391 [==============================] - 3s 7ms/step - loss: 1.3035 - accuracy: 0.5755 - val_loss: 1.3102 - val_accuracy: 0.6064\n",
            "Epoch 8/32\n",
            "391/391 [==============================] - 3s 7ms/step - loss: 1.2891 - accuracy: 0.5810 - val_loss: 1.3219 - val_accuracy: 0.6044\n",
            "Epoch 9/32\n",
            "391/391 [==============================] - 2s 6ms/step - loss: 1.2755 - accuracy: 0.5883 - val_loss: 1.3442 - val_accuracy: 0.6048\n",
            "Epoch 10/32\n",
            "391/391 [==============================] - 3s 6ms/step - loss: 1.2616 - accuracy: 0.5914 - val_loss: 1.3604 - val_accuracy: 0.6094\n",
            "Epoch 11/32\n",
            "391/391 [==============================] - 3s 7ms/step - loss: 1.2560 - accuracy: 0.5973 - val_loss: 1.3727 - val_accuracy: 0.6111\n",
            "Epoch 12/32\n",
            "391/391 [==============================] - 3s 8ms/step - loss: 1.2457 - accuracy: 0.5992 - val_loss: 1.4264 - val_accuracy: 0.5977\n",
            "Epoch 13/32\n",
            "391/391 [==============================] - 2s 6ms/step - loss: 1.2319 - accuracy: 0.6027 - val_loss: 1.4181 - val_accuracy: 0.6027\n",
            "Epoch 14/32\n",
            "391/391 [==============================] - 3s 7ms/step - loss: 1.2238 - accuracy: 0.6053 - val_loss: 1.4460 - val_accuracy: 0.6046\n",
            "Epoch 15/32\n",
            "391/391 [==============================] - 3s 7ms/step - loss: 1.2241 - accuracy: 0.6093 - val_loss: 1.4699 - val_accuracy: 0.6015\n",
            "Epoch 16/32\n",
            "391/391 [==============================] - 2s 6ms/step - loss: 1.2154 - accuracy: 0.6126 - val_loss: 1.4891 - val_accuracy: 0.6030\n",
            "Epoch 17/32\n",
            "391/391 [==============================] - 3s 7ms/step - loss: 1.2018 - accuracy: 0.6171 - val_loss: 1.5109 - val_accuracy: 0.6096\n",
            "Epoch 18/32\n",
            "391/391 [==============================] - 3s 7ms/step - loss: 1.1990 - accuracy: 0.6125 - val_loss: 1.5159 - val_accuracy: 0.6068\n",
            "Epoch 19/32\n",
            "391/391 [==============================] - 3s 7ms/step - loss: 1.2008 - accuracy: 0.6152 - val_loss: 1.5643 - val_accuracy: 0.5956\n",
            "Epoch 20/32\n",
            "391/391 [==============================] - 3s 7ms/step - loss: 1.1863 - accuracy: 0.6194 - val_loss: 1.5595 - val_accuracy: 0.5969\n",
            "Epoch 21/32\n",
            "391/391 [==============================] - 3s 7ms/step - loss: 1.1877 - accuracy: 0.6216 - val_loss: 1.6051 - val_accuracy: 0.6083\n",
            "Epoch 22/32\n",
            "391/391 [==============================] - 3s 7ms/step - loss: 1.1883 - accuracy: 0.6201 - val_loss: 1.6132 - val_accuracy: 0.6036\n",
            "Epoch 23/32\n",
            "391/391 [==============================] - 3s 7ms/step - loss: 1.1876 - accuracy: 0.6209 - val_loss: 1.6592 - val_accuracy: 0.6001\n",
            "Epoch 24/32\n",
            "391/391 [==============================] - 3s 8ms/step - loss: 1.1826 - accuracy: 0.6267 - val_loss: 1.6654 - val_accuracy: 0.5999\n",
            "Epoch 25/32\n",
            "391/391 [==============================] - 3s 8ms/step - loss: 1.1739 - accuracy: 0.6249 - val_loss: 1.6899 - val_accuracy: 0.6047\n",
            "Epoch 26/32\n",
            "391/391 [==============================] - 3s 7ms/step - loss: 1.1740 - accuracy: 0.6272 - val_loss: 1.7389 - val_accuracy: 0.6049\n",
            "Epoch 27/32\n",
            "391/391 [==============================] - 3s 7ms/step - loss: 1.1705 - accuracy: 0.6277 - val_loss: 1.7191 - val_accuracy: 0.5983\n",
            "Epoch 28/32\n",
            "391/391 [==============================] - 2s 6ms/step - loss: 1.1586 - accuracy: 0.6276 - val_loss: 1.7543 - val_accuracy: 0.6030\n",
            "Epoch 29/32\n",
            "391/391 [==============================] - 2s 6ms/step - loss: 1.1592 - accuracy: 0.6281 - val_loss: 1.7708 - val_accuracy: 0.6031\n",
            "Epoch 30/32\n",
            "391/391 [==============================] - 3s 7ms/step - loss: 1.1700 - accuracy: 0.6284 - val_loss: 1.7821 - val_accuracy: 0.6013\n",
            "Epoch 31/32\n",
            "391/391 [==============================] - 3s 7ms/step - loss: 1.1569 - accuracy: 0.6314 - val_loss: 1.8051 - val_accuracy: 0.6014\n",
            "Epoch 32/32\n",
            "391/391 [==============================] - 2s 6ms/step - loss: 1.1482 - accuracy: 0.6315 - val_loss: 1.8202 - val_accuracy: 0.6033\n"
          ]
        }
      ]
    },
    {
      "cell_type": "code",
      "source": [
        "plt.plot(history.history['accuracy'])\n",
        "plt.plot(history.history['val_accuracy'])\n",
        "plt.title('model accuracy')\n",
        "plt.ylabel('accuracy')\n",
        "plt.xlabel('epoch')\n",
        "plt.legend(['train', 'validation'], loc='upper left')\n",
        "plt.show()"
      ],
      "metadata": {
        "colab": {
          "base_uri": "https://localhost:8080/",
          "height": 295
        },
        "id": "DJG2BAd6ST0b",
        "outputId": "df8fafa6-3da6-4cac-df62-05f71c64ba9f"
      },
      "execution_count": 29,
      "outputs": [
        {
          "output_type": "display_data",
          "data": {
            "text/plain": [
              "<Figure size 432x288 with 1 Axes>"
            ],
            "image/png": "[encoded data removed]"
          },
          "metadata": {
            "needs_background": "light"
          }
        }
      ]
    },
    {
      "cell_type": "code",
      "source": [],
      "metadata": {
        "id": "kwEuEdnvY_A8"
      },
      "execution_count": null,
      "outputs": []
    }
  ]
}